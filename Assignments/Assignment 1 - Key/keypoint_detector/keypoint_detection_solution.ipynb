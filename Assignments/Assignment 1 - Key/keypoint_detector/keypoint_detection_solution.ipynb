{
 "cells": [
  {
   "cell_type": "markdown",
   "metadata": {},
   "source": [
    "## Keypoint Detection Solution\n",
    "---"
   ]
  },
  {
   "cell_type": "code",
   "execution_count": 1,
   "metadata": {},
   "outputs": [
    {
     "name": "stdout",
     "output_type": "stream",
     "text": [
      "Done!\n"
     ]
    }
   ],
   "source": [
    "# load packages\n",
    "import cv2\n",
    "import numpy as np\n",
    "import os\n",
    "import torch\n",
    "import matplotlib.pyplot as plt\n",
    "import matplotlib.image as mpimg\n",
    "import re\n",
    "%matplotlib inline\n",
    "print(\"Done!\")"
   ]
  },
  {
   "cell_type": "code",
   "execution_count": 2,
   "metadata": {},
   "outputs": [
    {
     "name": "stdout",
     "output_type": "stream",
     "text": [
      "Done!\n"
     ]
    }
   ],
   "source": [
    "# Initiate SIFT detector\n",
    "sift = cv2.xfeatures2d.SIFT_create(200)\n",
    "print(\"Done!\")"
   ]
  },
  {
   "cell_type": "code",
   "execution_count": 3,
   "metadata": {},
   "outputs": [
    {
     "name": "stdout",
     "output_type": "stream",
     "text": [
      "Done!\n"
     ]
    }
   ],
   "source": [
    "def getPatches(kps, img, size=32, num=500):\n",
    "    res = torch.zeros(num, 1, size, size)\n",
    "    if type(img) is np.ndarray:\n",
    "        img = torch.from_numpy(img)\n",
    "    h, w = img.shape      # note: for image, the x direction is the verticle, y-direction is the horizontal...\n",
    "    for i in range(num):\n",
    "        cx, cy = kps[i]\n",
    "        cx, cy = int(cx), int(cy)\n",
    "        dd = int(size/2)\n",
    "        xmin, xmax = max(0, cx - dd), min(w, cx + dd ) - 1\n",
    "        ymin, ymax = max(0, cy - dd), min(h, cy + dd ) - 1 \n",
    "        \n",
    "        xmin_res, xmax_res = dd - min(dd,cx), dd + min(dd, w - cx)-1\n",
    "        ymin_res, ymax_res = dd - min(dd,cy), dd + min(dd, h - cy)-1\n",
    "\n",
    "        res[i, 0, ymin_res: ymax_res, xmin_res: xmax_res] = img[ymin: ymax, xmin: xmax]\n",
    "    return res\n",
    "print(\"Done!\")"
   ]
  },
  {
   "cell_type": "code",
   "execution_count": 6,
   "metadata": {},
   "outputs": [
    {
     "name": "stdout",
     "output_type": "stream",
     "text": [
      "NotreDame\n",
      "Done!\n"
     ]
    }
   ],
   "source": [
    "img_dir = \"img\"\n",
    "kps_num = 30\n",
    "patch_size = 32\n",
    "number_of_images = 175\n",
    "res = torch.zeros(number_of_images, kps_num, 2)\n",
    "patches = torch.zeros(number_of_images, kps_num, 1, patch_size, patch_size)\n",
    "if os.path.exists(img_dir):\n",
    "    if os.listdir(img_dir) is []:\n",
    "        print(\"No images!\")\n",
    "        exit(0)\n",
    "    num_img = len(os.listdir(img_dir))\n",
    "    idx = 0\n",
    "    sorted_listdir = sorted(os.listdir(img_dir), key=lambda e: [int(s) for s in re.split('[q.]', e) if s.isdigit()])\n",
    "    for img in sorted_listdir:\n",
    "        print(img)\n",
    "        if not img.endswith(\"jpg\"):\n",
    "            continue\n",
    "        image_dir = os.path.join(img_dir, img)\n",
    "        image = cv2.imread(image_dir)\n",
    "        img= cv2.cvtColor(image,cv2.COLOR_BGR2GRAY)\n",
    "        \n",
    "        ## find the keypoints and descriptors with SIFT\n",
    "        kps, des = sift.detectAndCompute(img, None)\n",
    "        keypoints_img = [kps[a].pt for a in range(kps_num)] \n",
    "        res[idx] = torch.FloatTensor(keypoints_img)\n",
    "        \n",
    "        ## extract patches\n",
    "        patches[idx] = getPatches(keypoints_img, img, size=patch_size, num=kps_num)\n",
    "        idx += 1\n",
    "else:\n",
    "    print(\"image folder not exists!\")\n",
    "    exit(0)\n",
    "print(\"Done!\")"
   ]
  },
  {
   "cell_type": "code",
   "execution_count": 5,
   "metadata": {},
   "outputs": [
    {
     "name": "stdout",
     "output_type": "stream",
     "text": [
      "torch.Size([175, 30, 2])\n",
      "torch.Size([175, 30, 1, 32, 32])\n",
      "Done!\n"
     ]
    }
   ],
   "source": [
    "print(res.shape)\n",
    "print(patches.shape)\n",
    "print(\"Done!\")"
   ]
  },
  {
   "cell_type": "code",
   "execution_count": null,
   "metadata": {},
   "outputs": [],
   "source": [
    "## save tensors\n",
    "output_dir_kps = \"keypoints.pt\"\n",
    "output_dir_patches = \"patches.pt\"\n",
    "torch.save(res, output_dir_kps)\n",
    "torch.save(patches, output_dir_patches)\n",
    "print(\"Done!\")"
   ]
  },
  {
   "cell_type": "code",
   "execution_count": null,
   "metadata": {},
   "outputs": [],
   "source": []
  }
 ],
 "metadata": {
  "kernelspec": {
   "display_name": "Python 3",
   "language": "python",
   "name": "python3"
  },
  "language_info": {
   "codemirror_mode": {
    "name": "ipython",
    "version": 3
   },
   "file_extension": ".py",
   "mimetype": "text/x-python",
   "name": "python",
   "nbconvert_exporter": "python",
   "pygments_lexer": "ipython3",
   "version": "3.7.2"
  }
 },
 "nbformat": 4,
 "nbformat_minor": 2
}
