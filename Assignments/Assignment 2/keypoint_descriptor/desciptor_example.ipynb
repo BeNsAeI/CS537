{
 "cells": [
  {
   "cell_type": "markdown",
   "metadata": {},
   "source": [
    "## USE pretrained network to output keypoint's description"
   ]
  },
  {
   "cell_type": "code",
   "execution_count": 1,
   "metadata": {},
   "outputs": [
    {
     "name": "stdout",
     "output_type": "stream",
     "text": [
      "torch.Size([175, 30, 1, 32, 32])\n",
      "torch.Size([140, 30, 1, 32, 32])\n",
      "torch.Size([35, 30, 1, 32, 32])\n",
      "torch.Size([175, 30, 128])\n",
      "torch.Size([140, 30, 128])\n",
      "torch.Size([35, 30, 128])\n",
      "Done!\n"
     ]
    }
   ],
   "source": [
    "from __future__ import division, print_function\n",
    "import glob\n",
    "import os\n",
    "import cv2\n",
    "import PIL\n",
    "import random\n",
    "import numpy as np\n",
    "# import pandas as pd\n",
    "import matplotlib.pyplot as plt\n",
    "import matplotlib.image as mpimg\n",
    "import torch\n",
    "import torch.nn.init\n",
    "import torch.nn as nn\n",
    "import torch.optim as optim\n",
    "import torch.backends.cudnn as cudnn\n",
    "import torch.nn.functional as F\n",
    "import torchvision.datasets as dset\n",
    "import torchvision.transforms as transforms\n",
    "from tqdm import tqdm\n",
    "from torch.autograd import Variable\n",
    "from copy import deepcopy, copy\n",
    "from config_profile import args\n",
    "from Utils import cv2_scale36, cv2_scale, np_reshape, np_reshape64\n",
    "from munkres import Munkres\n",
    "\n",
    "from descriptor_CNN3 import DesNet\n",
    "model = DesNet()\n",
    "if args.cuda:\n",
    "    model.cuda()\n",
    "weight_path = \"checkpoint_b.pth\"\n",
    "trained_weight = torch.load(weight_path)\n",
    "model.load_state_dict(trained_weight['state_dict'])\n",
    "\n",
    "# load patches\n",
    "patches_a_dir = \"../keypoint_detector/patches-a.pt\"\n",
    "patches_i_dir = \"../keypoint_detector/patches-i.pt\"\n",
    "patches_q_dir = \"../keypoint_detector/patches-q.pt\"\n",
    "patches_a = torch.load(patches_a_dir)\n",
    "patches_i = torch.load(patches_i_dir)\n",
    "patches_q = torch.load(patches_q_dir)\n",
    "\n",
    "print(patches_a.shape)\n",
    "print(patches_i.shape)\n",
    "print(patches_q.shape)\n",
    "patches_a =  patches_a.view(-1, 1, 32, 32).cuda()\n",
    "patches_i =  patches_i.view(-1, 1, 32, 32).cuda()\n",
    "patches_q =  patches_q.view(-1, 1, 32, 32).cuda()\n",
    "\n",
    "#description = model(patches)\n",
    "with torch.no_grad():\n",
    "    description_a = model(patches_a)\n",
    "    description_i = model(patches_i)\n",
    "    description_q = model(patches_q)\n",
    "\n",
    "description_a = description_a.view(-1, 30, 128)\n",
    "description_i = description_i.view(-1, 30, 128)\n",
    "description_q = description_q.view(-1, 30, 128)\n",
    "print(description_a.shape)\n",
    "print(description_i.shape)\n",
    "print(description_q.shape)\n",
    "\n",
    "print(\"Done!\")"
   ]
  },
  {
   "cell_type": "code",
   "execution_count": 7,
   "metadata": {},
   "outputs": [
    {
     "name": "stdout",
     "output_type": "stream",
     "text": [
      "(0, 0)\n"
     ]
    },
    {
     "ename": "KeyboardInterrupt",
     "evalue": "",
     "output_type": "error",
     "traceback": [
      "\u001b[1;31m---------------------------------------------------------------------------\u001b[0m",
      "\u001b[1;31mKeyboardInterrupt\u001b[0m                         Traceback (most recent call last)",
      "\u001b[1;32m<ipython-input-7-616a96feccf7>\u001b[0m in \u001b[0;36m<module>\u001b[1;34m\u001b[0m\n\u001b[0;32m      9\u001b[0m         \u001b[1;32mfor\u001b[0m \u001b[0mk\u001b[0m \u001b[1;32min\u001b[0m \u001b[0mrange\u001b[0m\u001b[1;33m(\u001b[0m\u001b[1;36m0\u001b[0m\u001b[1;33m,\u001b[0m\u001b[1;36m30\u001b[0m\u001b[1;33m)\u001b[0m\u001b[1;33m:\u001b[0m\u001b[1;33m\u001b[0m\u001b[1;33m\u001b[0m\u001b[0m\n\u001b[0;32m     10\u001b[0m             \u001b[1;32mfor\u001b[0m \u001b[0ml\u001b[0m \u001b[1;32min\u001b[0m \u001b[0mrange\u001b[0m\u001b[1;33m(\u001b[0m\u001b[1;36m0\u001b[0m\u001b[1;33m,\u001b[0m\u001b[1;36m30\u001b[0m\u001b[1;33m)\u001b[0m\u001b[1;33m:\u001b[0m\u001b[1;33m\u001b[0m\u001b[1;33m\u001b[0m\u001b[0m\n\u001b[1;32m---> 11\u001b[1;33m                 \u001b[0mcosts\u001b[0m\u001b[1;33m[\u001b[0m\u001b[0mk\u001b[0m\u001b[1;33m]\u001b[0m\u001b[1;33m[\u001b[0m\u001b[0ml\u001b[0m\u001b[1;33m]\u001b[0m \u001b[1;33m=\u001b[0m \u001b[0mnp\u001b[0m\u001b[1;33m.\u001b[0m\u001b[0mlinalg\u001b[0m\u001b[1;33m.\u001b[0m\u001b[0mnorm\u001b[0m\u001b[1;33m(\u001b[0m\u001b[0mnp\u001b[0m\u001b[1;33m.\u001b[0m\u001b[0msubtract\u001b[0m\u001b[1;33m(\u001b[0m\u001b[0mdescription_q\u001b[0m\u001b[1;33m[\u001b[0m\u001b[0mi\u001b[0m\u001b[1;33m]\u001b[0m\u001b[1;33m[\u001b[0m\u001b[0mk\u001b[0m\u001b[1;33m]\u001b[0m\u001b[1;33m.\u001b[0m\u001b[0mcpu\u001b[0m\u001b[1;33m(\u001b[0m\u001b[1;33m)\u001b[0m\u001b[1;33m.\u001b[0m\u001b[0mnumpy\u001b[0m\u001b[1;33m(\u001b[0m\u001b[1;33m)\u001b[0m\u001b[1;33m,\u001b[0m \u001b[0mdescription_i\u001b[0m\u001b[1;33m[\u001b[0m\u001b[0mj\u001b[0m\u001b[1;33m]\u001b[0m\u001b[1;33m[\u001b[0m\u001b[0ml\u001b[0m\u001b[1;33m]\u001b[0m\u001b[1;33m.\u001b[0m\u001b[0mcpu\u001b[0m\u001b[1;33m(\u001b[0m\u001b[1;33m)\u001b[0m\u001b[1;33m.\u001b[0m\u001b[0mnumpy\u001b[0m\u001b[1;33m(\u001b[0m\u001b[1;33m)\u001b[0m\u001b[1;33m)\u001b[0m\u001b[1;33m,\u001b[0m\u001b[0mord\u001b[0m\u001b[1;33m=\u001b[0m\u001b[1;36m2\u001b[0m\u001b[1;33m)\u001b[0m\u001b[1;33m\u001b[0m\u001b[1;33m\u001b[0m\u001b[0m\n\u001b[0m\u001b[0;32m     12\u001b[0m         \u001b[0mtest\u001b[0m \u001b[1;33m=\u001b[0m \u001b[0mnp\u001b[0m\u001b[1;33m.\u001b[0m\u001b[0msubtract\u001b[0m\u001b[1;33m(\u001b[0m\u001b[0mdescription_q\u001b[0m\u001b[1;33m[\u001b[0m\u001b[0mi\u001b[0m\u001b[1;33m]\u001b[0m\u001b[1;33m.\u001b[0m\u001b[0mcpu\u001b[0m\u001b[1;33m(\u001b[0m\u001b[1;33m)\u001b[0m\u001b[1;33m.\u001b[0m\u001b[0mnumpy\u001b[0m\u001b[1;33m(\u001b[0m\u001b[1;33m)\u001b[0m\u001b[1;33m,\u001b[0m \u001b[0mdescription_i\u001b[0m\u001b[1;33m[\u001b[0m\u001b[0mj\u001b[0m\u001b[1;33m]\u001b[0m\u001b[1;33m.\u001b[0m\u001b[0mcpu\u001b[0m\u001b[1;33m(\u001b[0m\u001b[1;33m)\u001b[0m\u001b[1;33m.\u001b[0m\u001b[0mnumpy\u001b[0m\u001b[1;33m(\u001b[0m\u001b[1;33m)\u001b[0m\u001b[1;33m)\u001b[0m\u001b[1;33m\u001b[0m\u001b[1;33m\u001b[0m\u001b[0m\n\u001b[0;32m     13\u001b[0m         \u001b[0mcost_indecies\u001b[0m \u001b[1;33m=\u001b[0m \u001b[0mhungarian\u001b[0m\u001b[1;33m.\u001b[0m\u001b[0mcompute\u001b[0m\u001b[1;33m(\u001b[0m\u001b[0mnp\u001b[0m\u001b[1;33m.\u001b[0m\u001b[0mcopy\u001b[0m\u001b[1;33m(\u001b[0m\u001b[0mcosts\u001b[0m\u001b[1;33m)\u001b[0m\u001b[1;33m)\u001b[0m\u001b[1;33m\u001b[0m\u001b[1;33m\u001b[0m\u001b[0m\n",
      "\u001b[1;31mKeyboardInterrupt\u001b[0m: "
     ]
    }
   ],
   "source": [
    "similarity_matrix = np.zeros((35,140))\n",
    "#print(description_q[0].shape)\n",
    "#print(description_i[0].shape)\n",
    "hungarian = Munkres()\n",
    "for i in range(0,35):\n",
    "    top = 0\n",
    "    for j in range(0,140):\n",
    "        costs = np.zeros((30,30))\n",
    "        for k in range(0,30):\n",
    "            for l in range(0,30):\n",
    "                costs[k][l] = np.linalg.norm(np.subtract(description_q[i][k].cpu().numpy(), description_i[j][l].cpu().numpy()),ord=2)\n",
    "        test = np.subtract(description_q[i].cpu().numpy(), description_i[j].cpu().numpy())\n",
    "        cost_indecies = hungarian.compute(np.copy(costs))\n",
    "        tmp = np.zeros(len(cost_indecies))\n",
    "        for k in range(0,len(cost_indecies)):\n",
    "            tmp[k] = np.exp(-(costs[cost_indecies[k][0]][cost_indecies[k][1]]))\n",
    "        similarity_matrix[i][j]=tmp.sum()\n",
    "        if(top < similarity_matrix[i][j]):\n",
    "            top = similarity_matrix[i][j]\n",
    "            print((i,j))\n",
    "        #print(similarity_matrix[i][j])\n",
    "print(similarity_matrix)\n",
    "# Check point: saving the tensor to prevent re computing it\n",
    "print(\"Saving a checkpoint...\")\n",
    "torch.save(similarity_matrix, \"checkpoint-1-to-1.pt\")\n",
    "print(\"Done!\")\n"
   ]
  },
  {
   "cell_type": "code",
   "execution_count": 3,
   "metadata": {},
   "outputs": [],
   "source": []
  },
  {
   "cell_type": "code",
   "execution_count": 8,
   "metadata": {},
   "outputs": [
    {
     "name": "stdout",
     "output_type": "stream",
     "text": [
      "(35, 140)\n",
      "[[14.78335888 14.76507671 13.94114402 ...  8.35769791  8.49947696\n",
      "   8.39132851]\n",
      " [ 8.61657291  8.65183173  8.62217608 ...  8.55982659  8.76162621\n",
      "   8.38833227]\n",
      " [ 8.92609557  9.05985828  8.76591278 ...  8.24642189  8.18303793\n",
      "   8.48164175]\n",
      " ...\n",
      " [ 8.19770111  8.37336017  8.1499579  ...  8.31396344  8.3035486\n",
      "   8.6731017 ]\n",
      " [ 8.03349518  8.28073153  7.94179169 ...  7.9018665   7.83969328\n",
      "   8.14647369]\n",
      " [ 8.61732855  8.49051534  8.56383987 ...  9.6003048  16.68723528\n",
      "  11.0266813 ]]\n",
      "Done!\n"
     ]
    }
   ],
   "source": [
    "# start from here to reload the tensor\n",
    "similarity_matrix = torch.load(\"checkpoint-1-to-1.pt\")\n",
    "print(similarity_matrix.shape)\n",
    "print(similarity_matrix)\n",
    "print(\"Done!\")"
   ]
  },
  {
   "cell_type": "code",
   "execution_count": null,
   "metadata": {},
   "outputs": [],
   "source": [
    "similarity_matrix = np.zeros((35,140))\n",
    "#print(description_q[0].shape)\n",
    "#print(description_i[0].shape)\n",
    "hungarian = Munkres()\n",
    "for i in range(0,35):\n",
    "    top = 0\n",
    "    for j in range(0,140):\n",
    "        costs = np.zeros((30,30))\n",
    "        for k in range(0,30):\n",
    "            for l in range(0,30):\n",
    "                costs[k][l] = np.linalg.norm(np.subtract(description_q[i][k].cpu().numpy(), description_i[j][l].cpu().numpy()),ord=2)\n",
    "        test = np.subtract(description_q[i].cpu().numpy(), description_i[j].cpu().numpy())\n",
    "        cost_indecies = hungarian.compute(np.copy(costs))\n",
    "        tmp = np.zeros(len(cost_indecies))\n",
    "        for k in range(0,len(cost_indecies)):\n",
    "            tmp[k] = np.exp(-(costs[cost_indecies[k][0]][cost_indecies[k][1]]))\n",
    "        similarity_matrix[i][j]=tmp.sum()\n",
    "        if(top < similarity_matrix[i][j]):\n",
    "            top = similarity_matrix[i][j]\n",
    "            print((i,j))\n",
    "        #print(similarity_matrix[i][j])\n",
    "print(similarity_matrix)\n",
    "print(\"Done!\")"
   ]
  },
  {
   "cell_type": "code",
   "execution_count": null,
   "metadata": {},
   "outputs": [],
   "source": [
    "for i in range(0,35):\n",
    "    top = 0\n",
    "    for j in range(0,140):\n",
    "        costs = np.zeros((30,30))\n",
    "        for k in range(0,30):\n",
    "            for l in range(0,30):\n",
    "                costs[k][l] = np.linalg.norm(np.subtract(description_q[i][k].cpu().numpy(), description_i[j][l].cpu().numpy()),ord=2)\n",
    "        test = np.subtract(description_q[i].cpu().numpy(), description_i[j].cpu().numpy())\n",
    "        tmp = np.zeros(costs.shape)\n",
    "        for k in range(0,len(cost_indecies)):\n",
    "            tmp[k] = np.exp(-(costs.sum))\n",
    "        similarity_matrix[i][j]=tmp.sum()"
   ]
  },
  {
   "cell_type": "code",
   "execution_count": null,
   "metadata": {},
   "outputs": [],
   "source": []
  }
 ],
 "metadata": {
  "kernelspec": {
   "display_name": "Python 3",
   "language": "python",
   "name": "python3"
  },
  "language_info": {
   "codemirror_mode": {
    "name": "ipython",
    "version": 3
   },
   "file_extension": ".py",
   "mimetype": "text/x-python",
   "name": "python",
   "nbconvert_exporter": "python",
   "pygments_lexer": "ipython3",
   "version": "3.7.2"
  }
 },
 "nbformat": 4,
 "nbformat_minor": 2
}
